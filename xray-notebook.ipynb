{
 "cells": [
  {
   "cell_type": "markdown",
   "metadata": {},
   "source": [
    "we start by data exploration and visualization we know image classes of an image depend to their location / folder names in the following\n",
    "we print the name of sub folders at each data groupe(train, val and test) after this we will exploit the cardinality of each data folder to\n",
    "build an idea about the data size and relative folder sizes"
   ]
  },
  {
   "cell_type": "code",
   "execution_count": 2,
   "metadata": {},
   "outputs": [
    {
     "name": "stdout",
     "output_type": "stream",
     "text": [
      "['NORMAL', 'PNEUMONIA']\n"
     ]
    }
   ],
   "source": [
    "from pathlib import Path\n",
    "import os\n",
    "directory_to_extract_to = ''\n",
    "# we first define data paths\n",
    "data_dir = Path(directory_to_extract_to)  #\n",
    "# Path to train directory (Fancy pathlib...no more os.path!!)\n",
    "train_dir = data_dir / 'train'\n",
    "# Path to validation directory\n",
    "val_dir = data_dir / 'val'\n",
    "# Path to test directory\n",
    "test_dir = data_dir / 'test'\n",
    "print(os.listdir(train_dir))"
   ]
  },
  {
   "cell_type": "markdown",
   "metadata": {},
   "source": [
    "as one may notice the data is split into two classes namely \"Pneumonia\" and \"Normal\" next we will check how many image each\n",
    "folder contain and then how many image each category contain."
   ]
  },
  {
   "cell_type": "code",
   "execution_count": 3,
   "metadata": {},
   "outputs": [
    {
     "name": "stdout",
     "output_type": "stream",
     "text": [
      "train data contain 5216 dataframe\n",
      "validation data contain 16 dataframe\n",
      "test data contain 624 dataframe\n",
      "train data contain 1341  Normal dataframe\n",
      "train data contain 3875 Pneumonia dataframe\n",
      "validation data contain 8  Normal dataframe\n",
      "validation data contain 8 Pneumonia dataframe\n"
     ]
    }
   ],
   "source": [
    "import tensorflow as tf\n",
    "\n",
    "train_filenames = tf.io.gfile.glob(str(train_dir) + '/*/*jpeg')\n",
    "print('train data contain', len(train_filenames), 'dataframe')\n",
    "\n",
    "val_filenames = tf.io.gfile.glob(str(val_dir) + '/*/*jpeg')\n",
    "print('validation data contain', len(val_filenames), 'dataframe')\n",
    "\n",
    "test_filenames = tf.io.gfile.glob(str(test_dir) + '/*/*jpeg')\n",
    "print('test data contain', len(test_filenames), 'dataframe')\n",
    "\n",
    "train_normal = tf.io.gfile.glob(str(train_dir) + '/NORMAL/*jpeg')\n",
    "print('train data contain', len(train_normal), ' Normal dataframe')\n",
    "\n",
    "train_pneumonia = tf.io.gfile.glob(str(train_dir) + '/PNEUMONIA/*jpeg')\n",
    "print('train data contain', len(train_pneumonia), 'Pneumonia dataframe')\n",
    "\n",
    "val_normal = tf.io.gfile.glob(str(val_dir) + '/NORMAL/*jpeg')\n",
    "print('validation data contain', len(val_normal), ' Normal dataframe')\n",
    "\n",
    "val_pneumonia = tf.io.gfile.glob(str(val_dir) + '/PNEUMONIA/*jpeg')\n",
    "print('validation data contain', len(val_pneumonia), 'Pneumonia dataframe')"
   ]
  },
  {
   "cell_type": "code",
   "execution_count": 4,
   "metadata": {},
   "outputs": [
    {
     "name": "stdout",
     "output_type": "stream",
     "text": [
      "1047\n"
     ]
    }
   ],
   "source": [
    "if 1:\n",
    "    from sklearn.model_selection import train_test_split\n",
    "\n",
    "    train_filenames.extend(val_filenames)\n",
    "    train_filenames, val_filenames = train_test_split(train_filenames, test_size=0.2, random_state=42)\n",
    "    print(len(val_filenames))"
   ]
  },
  {
   "cell_type": "markdown",
   "metadata": {},
   "source": [
    "when we have exploited the data cardinalities one can also notice an imbalance between data classes(3875 Pneumonia dataframe vs\n",
    "1341 Normal dataframe)"
   ]
  },
  {
   "cell_type": "code",
   "execution_count": 5,
   "metadata": {},
   "outputs": [],
   "source": [
    "def label_data(data_list, weight_for_0, weight_for_1):\n",
    "    labeled_data = []\n",
    "    for name in data_list:\n",
    "        labeled_data.append([name, weight_for_0]) if 'NORMAL' in name else labeled_data.append([name, weight_for_1])\n",
    "    return labeled_data"
   ]
  },
  {
   "cell_type": "code",
   "execution_count": 6,
   "metadata": {},
   "outputs": [
    {
     "name": "stdout",
     "output_type": "stream",
     "text": [
      "Weight for class 0: 1.98\n",
      "Weight for class 1: 0.67\n"
     ]
    }
   ],
   "source": [
    "import numpy as np\n",
    "\n",
    "train_data = label_data(train_filenames, 0, 1)\n",
    "count_train = len(train_data)\n",
    "count_pneumonia = sum(np.array(train_data)[:, 1].astype(int))\n",
    "count_normal = count_train - count_pneumonia\n",
    "\n",
    "weight_for_0 = (1/count_normal)*(count_train)/2.0\n",
    "weight_for_1 = (1/count_pneumonia)*(count_train)/2.0\n",
    "\n",
    "class_weight = {0: weight_for_0, 1: weight_for_1}\n",
    "\n",
    "print('Weight for class 0: {:.2f}'.format(weight_for_0))\n",
    "print('Weight for class 1: {:.2f}'.format(weight_for_1))"
   ]
  },
  {
   "cell_type": "code",
   "execution_count": 7,
   "metadata": {},
   "outputs": [],
   "source": [
    "# affect new wights to as labels\n",
    "train_data = label_data(train_filenames, weight_for_0, weight_for_1)\n",
    "val_data = label_data(val_filenames, weight_for_0, weight_for_1)"
   ]
  },
  {
   "cell_type": "code",
   "execution_count": 8,
   "metadata": {},
   "outputs": [],
   "source": [
    "image_size = (224, 224)\n",
    "from PIL import Image\n",
    "\n",
    "def buid_xy(data):\n",
    "    x, y = [], []\n",
    "    for name, label in data:\n",
    "        im = Image.open(name)\n",
    "        im = tf.image.convert_image_dtype(np.array(im), tf.float32)\n",
    "        if len(im.shape) < 3:\n",
    "            im = tf.expand_dims(im, axis=-1)\n",
    "            im = tf.image.grayscale_to_rgb(im)\n",
    "        im = tf.image.resize(im, image_size)\n",
    "        label = tf.keras.utils.to_categorical(label, num_classes=2)\n",
    "        x.append(np.array(im))\n",
    "        y.append(np.array(label))\n",
    "    return x, y"
   ]
  },
  {
   "cell_type": "code",
   "execution_count": 12,
   "metadata": {},
   "outputs": [
    {
     "name": "stdout",
     "output_type": "stream",
     "text": [
      "(4185, 224, 224, 3)\n",
      "(1047, 2)\n"
     ]
    }
   ],
   "source": [
    "trainx, trainy = buid_xy(train_data)\n",
    "print(np.array(trainx).shape)\n",
    "valx, valy = buid_xy(val_data)\n",
    "print(np.array(valy).shape)"
   ]
  },
  {
   "cell_type": "code",
   "execution_count": 13,
   "metadata": {},
   "outputs": [],
   "source": [
    "# some clean up to save memory\n",
    "try:\n",
    "    del train_data\n",
    "except:\n",
    "    pass\n",
    "try:\n",
    "    del val_data\n",
    "except:\n",
    "    pass\n",
    "try:\n",
    "    del train_filenames\n",
    "except:\n",
    "    pass\n",
    "try:\n",
    "    del val_filenames\n",
    "except:\n",
    "    pass"
   ]
  },
  {
   "cell_type": "code",
   "execution_count": 14,
   "metadata": {},
   "outputs": [
    {
     "name": "stdout",
     "output_type": "stream",
     "text": [
      "(4185, 224, 224, 3)\n",
      "(4185, 2)\n",
      "(1047, 224, 224, 3)\n",
      "(1047, 2)\n"
     ]
    }
   ],
   "source": [
    "print(np.array(trainx).shape)\n",
    "print(np.array(trainy).shape)\n",
    "print(np.array(valx).shape)\n",
    "print(np.array(valy).shape)"
   ]
  },
  {
   "cell_type": "code",
   "execution_count": null,
   "metadata": {},
   "outputs": [],
   "source": [
    "# we save the data in npy files to avoid the prerocessing for future running\n",
    "upload_dir = './upload'\n",
    "if not os.path.exists(upload_dir):  # Make sure that the folder exists\n",
    "    os.makedirs(upload_dir)\n",
    "\n",
    "\n",
    "np.save(os.path.join(upload_dir, 'training_label.npy'), np.array(trainy))\n",
    "np.save(os.path.join(upload_dir, 'training.npy'), np.array(trainx))\n",
    "\n",
    "np.save(os.path.join(upload_dir, 'validation.npy'), np.array(valx))\n",
    "np.save(os.path.join(upload_dir, 'validation_label.npy'), np.array(valy))"
   ]
  },
  {
   "cell_type": "code",
   "execution_count": 10,
   "metadata": {},
   "outputs": [],
   "source": [
    "# some cleaning up!\n",
    "try:\n",
    "    del trainx\n",
    "except:\n",
    "    pass\n",
    "try:\n",
    "    del valx\n",
    "except:\n",
    "    pass\n",
    "try:\n",
    "    del trainy\n",
    "except:\n",
    "    pass\n",
    "try:\n",
    "    del valy\n",
    "except:\n",
    "    pass"
   ]
  },
  {
   "cell_type": "code",
   "execution_count": 19,
   "metadata": {},
   "outputs": [],
   "source": [
    "def build_model():\n",
    "    \"\"\"Model function for CNN.\"\"\"\n",
    "    frozen_layers = [1, 2, 4, 5]\n",
    "    vgg16_model = tf.keras.applications.VGG16(\n",
    "        include_top=False, weights='imagenet', input_tensor=None,\n",
    "        input_shape=(image_size[0], image_size[1], 3)\n",
    "    )\n",
    "    for i, layer in enumerate(vgg16_model.layers):\n",
    "        if i in frozen_layers:\n",
    "            # layer.require_grad = False\n",
    "            layer.trainable = False\n",
    "    model = tf.keras.Sequential()\n",
    "    # Add the vgg convolutional base model\n",
    "    model.add(vgg16_model)\n",
    "    # Add new layers\n",
    "    model.add(tf.keras.layers.Flatten())\n",
    "    model.add(tf.keras.layers.Dense(2, activation='softmax'))\n",
    "    return model"
   ]
  },
  {
   "cell_type": "code",
   "execution_count": 20,
   "metadata": {},
   "outputs": [
    {
     "name": "stdout",
     "output_type": "stream",
     "text": [
      "Model: \"sequential\"\n",
      "_________________________________________________________________\n",
      "Layer (type)                 Output Shape              Param #   \n",
      "=================================================================\n",
      "vgg16 (Functional)           (None, 7, 7, 512)         14714688  \n",
      "_________________________________________________________________\n",
      "flatten (Flatten)            (None, 25088)             0         \n",
      "_________________________________________________________________\n",
      "dense (Dense)                (None, 2)                 50178     \n",
      "=================================================================\n",
      "Total params: 14,764,866\n",
      "Trainable params: 14,504,706\n",
      "Non-trainable params: 260,160\n",
      "_________________________________________________________________\n"
     ]
    }
   ],
   "source": [
    "model =  build_model()\n",
    "model.summary()"
   ]
  },
  {
   "cell_type": "code",
   "execution_count": 21,
   "metadata": {},
   "outputs": [],
   "source": [
    "checkpoint_path = \"training_1/cp4.ckpt\"\n",
    "checkpoint_dir = os.path.dirname(checkpoint_path)\n",
    "cp_callback = tf.keras.callbacks.ModelCheckpoint(filepath=checkpoint_path,\n",
    "                                                 save_weights_only=True,\n",
    "                                                 verbose=1)"
   ]
  },
  {
   "cell_type": "code",
   "execution_count": 22,
   "metadata": {},
   "outputs": [],
   "source": [
    "opt = tf.keras.optimizers.Adam(lr=0.0001, decay=1e-5)\n",
    "METRICS = [\n",
    "    'accuracy',\n",
    "    tf.keras.metrics.Precision(name='precision'),\n",
    "    tf.keras.metrics.Recall(name='recall')\n",
    "]\n",
    "model.compile(\n",
    "    optimizer=opt,\n",
    "    loss='binary_crossentropy',\n",
    "    metrics=METRICS\n",
    ")"
   ]
  },
  {
   "cell_type": "code",
   "execution_count": 23,
   "metadata": {},
   "outputs": [],
   "source": [
    "def load_training_data(base_dir):\n",
    "    X_train = np.load(os.path.join(base_dir, 'training.npy'))\n",
    "    y_train = np.load(os.path.join(base_dir, 'training_label.npy'))\n",
    "    return X_train, y_train\n",
    "\n",
    "\n",
    "def load_validation_data(base_dir):\n",
    "    X_val = np.load(os.path.join(base_dir, 'validation.npy'))\n",
    "    y_val = np.load(os.path.join(base_dir, 'validation_label.npy'))\n",
    "    return X_val, y_val"
   ]
  },
  {
   "cell_type": "code",
   "execution_count": 25,
   "metadata": {},
   "outputs": [],
   "source": [
    "upload_dir = './upload'\n",
    "trainx, trainy= load_training_data(upload_dir)\n",
    "valx, valy = load_validation_data(upload_dir)"
   ]
  },
  {
   "cell_type": "code",
   "execution_count": 26,
   "metadata": {},
   "outputs": [
    {
     "name": "stdout",
     "output_type": "stream",
     "text": [
      "Epoch 1/20\n",
      "261/261 [==============================] - ETA: 0s - loss: 0.2409 - accuracy: 0.8807 - precision: 0.8807 - recall: 0.8807WARNING:tensorflow:Your input ran out of data; interrupting training. Make sure that your dataset or generator can generate at least `steps_per_epoch * epochs` batches (in this case, 1047 batches). You may need to use the repeat() function when building your dataset.\n",
      "261/261 [==============================] - 1080s 4s/step - loss: 0.2405 - accuracy: 0.8809 - precision: 0.8809 - recall: 0.8809 - val_loss: 0.0772 - val_accuracy: 0.9723 - val_precision: 0.9723 - val_recall: 0.9723\n",
      "\n",
      "Epoch 00001: saving model to training_1\\cp4.ckpt\n",
      "Epoch 2/20\n",
      "261/261 [==============================] - 1017s 4s/step - loss: 0.0665 - accuracy: 0.9768 - precision: 0.9768 - recall: 0.9768\n",
      "\n",
      "Epoch 00002: saving model to training_1\\cp4.ckpt\n",
      "Epoch 3/20\n",
      "261/261 [==============================] - 994s 4s/step - loss: 0.0477 - accuracy: 0.9779 - precision: 0.9779 - recall: 0.9779\n",
      "\n",
      "Epoch 00003: saving model to training_1\\cp4.ckpt\n",
      "Epoch 4/20\n",
      "261/261 [==============================] - 1002s 4s/step - loss: 0.0519 - accuracy: 0.9791 - precision: 0.9791 - recall: 0.9791\n",
      "\n",
      "Epoch 00004: saving model to training_1\\cp4.ckpt\n",
      "Epoch 5/20\n",
      "261/261 [==============================] - 999s 4s/step - loss: 0.0251 - accuracy: 0.9894 - precision: 0.9894 - recall: 0.9894\n",
      "\n",
      "Epoch 00005: saving model to training_1\\cp4.ckpt\n",
      "Epoch 6/20\n",
      "261/261 [==============================] - 1020s 4s/step - loss: 0.0313 - accuracy: 0.9872 - precision: 0.9872 - recall: 0.9872\n",
      "\n",
      "Epoch 00006: saving model to training_1\\cp4.ckpt\n",
      "Epoch 7/20\n",
      "261/261 [==============================] - 999s 4s/step - loss: 0.0156 - accuracy: 0.9953 - precision: 0.9953 - recall: 0.9953\n",
      "\n",
      "Epoch 00007: saving model to training_1\\cp4.ckpt\n",
      "Epoch 8/20\n",
      "261/261 [==============================] - 1016s 4s/step - loss: 0.0217 - accuracy: 0.9912 - precision: 0.9912 - recall: 0.9912\n",
      "\n",
      "Epoch 00008: saving model to training_1\\cp4.ckpt\n",
      "Epoch 9/20\n",
      "261/261 [==============================] - 1011s 4s/step - loss: 0.0153 - accuracy: 0.9934 - precision: 0.9934 - recall: 0.9934\n",
      "\n",
      "Epoch 00009: saving model to training_1\\cp4.ckpt\n",
      "Epoch 10/20\n",
      "261/261 [==============================] - 1000s 4s/step - loss: 0.0428 - accuracy: 0.9798 - precision: 0.9798 - recall: 0.9798\n",
      "\n",
      "Epoch 00010: saving model to training_1\\cp4.ckpt\n",
      "Epoch 11/20\n",
      "261/261 [==============================] - 988s 4s/step - loss: 0.0123 - accuracy: 0.9952 - precision: 0.9952 - recall: 0.9952\n",
      "\n",
      "Epoch 00011: saving model to training_1\\cp4.ckpt\n",
      "Epoch 12/20\n",
      "261/261 [==============================] - 993s 4s/step - loss: 0.0262 - accuracy: 0.9913 - precision: 0.9913 - recall: 0.9913\n",
      "\n",
      "Epoch 00012: saving model to training_1\\cp4.ckpt\n",
      "Epoch 13/20\n",
      "261/261 [==============================] - 997s 4s/step - loss: 0.0013 - accuracy: 0.9999 - precision: 0.9999 - recall: 0.9999\n",
      "\n",
      "Epoch 00013: saving model to training_1\\cp4.ckpt\n",
      "Epoch 14/20\n",
      "261/261 [==============================] - 977s 4s/step - loss: 0.0016 - accuracy: 0.9992 - precision: 0.9992 - recall: 0.9992\n",
      "\n",
      "Epoch 00014: saving model to training_1\\cp4.ckpt\n",
      "Epoch 15/20\n",
      "261/261 [==============================] - 972s 4s/step - loss: 1.8525e-04 - accuracy: 1.0000 - precision: 1.0000 - recall: 1.0000\n",
      "\n",
      "Epoch 00015: saving model to training_1\\cp4.ckpt\n",
      "Epoch 16/20\n",
      "261/261 [==============================] - 972s 4s/step - loss: 5.0196e-05 - accuracy: 1.0000 - precision: 1.0000 - recall: 1.0000\n",
      "\n",
      "Epoch 00016: saving model to training_1\\cp4.ckpt\n",
      "Epoch 17/20\n",
      "261/261 [==============================] - 967s 4s/step - loss: 1.3925e-05 - accuracy: 1.0000 - precision: 1.0000 - recall: 1.0000\n",
      "\n",
      "Epoch 00017: saving model to training_1\\cp4.ckpt\n",
      "Epoch 18/20\n",
      "261/261 [==============================] - 967s 4s/step - loss: 5.5615e-06 - accuracy: 1.0000 - precision: 1.0000 - recall: 1.0000\n",
      "\n",
      "Epoch 00018: saving model to training_1\\cp4.ckpt\n",
      "Epoch 19/20\n",
      "261/261 [==============================] - 969s 4s/step - loss: 5.1293e-06 - accuracy: 1.0000 - precision: 1.0000 - recall: 1.0000\n",
      "\n",
      "Epoch 00019: saving model to training_1\\cp4.ckpt\n",
      "Epoch 20/20\n",
      "261/261 [==============================] - 970s 4s/step - loss: 2.5079e-06 - accuracy: 1.0000 - precision: 1.0000 - recall: 1.0000\n",
      "\n",
      "Epoch 00020: saving model to training_1\\cp4.ckpt\n"
     ]
    }
   ],
   "source": [
    "TRAIN_IMG_COUNT = len(trainx)\n",
    "VAL_IMG_COUNT = len(valx)\n",
    "batch_size=16\n",
    "epochs=20\n",
    "history = model.fit(x=trainx,\n",
    "                    y=trainy, \n",
    "                    steps_per_epoch=TRAIN_IMG_COUNT // batch_size,\n",
    "                    batch_size=batch_size, \n",
    "                    epochs=epochs,\n",
    "                    validation_data=(valx, valy),\n",
    "                    validation_steps=VAL_IMG_COUNT,\n",
    "                    class_weight=class_weight,\n",
    "                    callbacks=[cp_callback])"
   ]
  },
  {
   "cell_type": "code",
   "execution_count": 27,
   "metadata": {},
   "outputs": [
    {
     "name": "stdout",
     "output_type": "stream",
     "text": [
      "INFO:tensorflow:Assets written to: model2_softmax\\assets\n"
     ]
    }
   ],
   "source": [
    "model.save('model2_softmax')"
   ]
  },
  {
   "cell_type": "code",
   "execution_count": 28,
   "metadata": {},
   "outputs": [
    {
     "data": {
      "image/png": "[encoded data removed]",
      "text/plain": [
       "<Figure size 1440x216 with 4 Axes>"
      ]
     },
     "metadata": {
      "needs_background": "light"
     },
     "output_type": "display_data"
    }
   ],
   "source": [
    "import matplotlib.pyplot as plt\n",
    "fig, ax = plt.subplots(1, 4, figsize=(20, 3))\n",
    "ax = ax.ravel()\n",
    "for i, met in enumerate(['precision', 'recall', 'accuracy', 'loss']):\n",
    "    ax[i].plot(history.history[met])\n",
    "    ax[i].plot(history.history['val_' + met])\n",
    "    ax[i].set_title('Model {}'.format(met))\n",
    "    ax[i].set_xlabel('epochs')\n",
    "    ax[i].set_ylabel(met)\n",
    "    ax[i].legend(['train', 'val'])"
   ]
  },
  {
   "cell_type": "code",
   "execution_count": 29,
   "metadata": {},
   "outputs": [],
   "source": [
    "# prepare test data\n",
    "test_data = label_data(test_filenames, weight_for_0, weight_for_1)\n",
    "testx, testy = buid_xy(test_data)"
   ]
  },
  {
   "cell_type": "code",
   "execution_count": 31,
   "metadata": {},
   "outputs": [],
   "source": [
    "preds = model.predict(np.array(testx), batch_size=16)"
   ]
  },
  {
   "cell_type": "code",
   "execution_count": 33,
   "metadata": {},
   "outputs": [
    {
     "name": "stdout",
     "output_type": "stream",
     "text": [
      "(624,)\n",
      "(624,)\n"
     ]
    }
   ],
   "source": [
    "preds = np.argmax(preds, axis=-1)#['predictions']\n",
    "# Original labels\n",
    "orig_test_labels = np.argmax(testy, axis=-1)\n",
    "print(orig_test_labels.shape)\n",
    "print(preds.shape)"
   ]
  },
  {
   "cell_type": "code",
   "execution_count": 41,
   "metadata": {},
   "outputs": [
    {
     "name": "stdout",
     "output_type": "stream",
     "text": [
      "20/20 - 52s - loss: 4.7537 - accuracy: 0.7564 - precision: 0.7564 - recall: 0.7564\n"
     ]
    }
   ],
   "source": [
    "loss, acc, prec, rec = model.evaluate(np.array(testx), np.array(testy),verbose=2)"
   ]
  },
  {
   "cell_type": "markdown",
   "metadata": {},
   "source": [
    "I got this function form here https://www.kaggle.com/grfiv4/plot-a-confusion-matrix"
   ]
  },
  {
   "cell_type": "code",
   "execution_count": 34,
   "metadata": {},
   "outputs": [],
   "source": [
    "def plot_confusion_matrix(cm,\n",
    "                          target_names,\n",
    "                          title='Confusion matrix',\n",
    "                          cmap=None,\n",
    "                          normalize=True):\n",
    "    \"\"\"\n",
    "    given a sklearn confusion matrix (cm), make a nice plot\n",
    "\n",
    "    Arguments\n",
    "    ---------\n",
    "    cm:           confusion matrix from sklearn.metrics.confusion_matrix\n",
    "\n",
    "    target_names: given classification classes such as [0, 1, 2]\n",
    "                  the class names, for example: ['high', 'medium', 'low']\n",
    "\n",
    "    title:        the text to display at the top of the matrix\n",
    "\n",
    "    cmap:         the gradient of the values displayed from matplotlib.pyplot.cm\n",
    "                  see http://matplotlib.org/examples/color/colormaps_reference.html\n",
    "                  plt.get_cmap('jet') or plt.cm.Blues\n",
    "\n",
    "    normalize:    If False, plot the raw numbers\n",
    "                  If True, plot the proportions\n",
    "\n",
    "    Usage\n",
    "    -----\n",
    "    plot_confusion_matrix(cm           = cm,                  # confusion matrix created by\n",
    "                                                              # sklearn.metrics.confusion_matrix\n",
    "                          normalize    = True,                # show proportions\n",
    "                          target_names = y_labels_vals,       # list of names of the classes\n",
    "                          title        = best_estimator_name) # title of graph\n",
    "    Citiation\n",
    "    ---------\n",
    "    http://scikit-learn.org/stable/auto_examples/model_selection/plot_confusion_matrix.html\n",
    "\n",
    "    \"\"\"\n",
    "    import matplotlib.pyplot as plt\n",
    "    import numpy as np\n",
    "    import itertools\n",
    "\n",
    "    accuracy = np.trace(cm) / float(np.sum(cm))\n",
    "    misclass = 1 - accuracy\n",
    "\n",
    "    if cmap is None:\n",
    "        cmap = plt.get_cmap('Blues')\n",
    "\n",
    "    plt.figure(figsize=(8, 6))\n",
    "    plt.imshow(cm, interpolation='nearest', cmap=cmap)\n",
    "    plt.title(title)\n",
    "    plt.colorbar()\n",
    "\n",
    "    if target_names is not None:\n",
    "        tick_marks = np.arange(len(target_names))\n",
    "        plt.xticks(tick_marks, target_names, rotation=45)\n",
    "        plt.yticks(tick_marks, target_names)\n",
    "\n",
    "    if normalize:\n",
    "        cm = cm.astype('float') / cm.sum(axis=1)[:, np.newaxis]\n",
    "\n",
    "    thresh = cm.max() / 1.5 if normalize else cm.max() / 2\n",
    "    for i, j in itertools.product(range(cm.shape[0]), range(cm.shape[1])):\n",
    "        if normalize:\n",
    "            plt.text(j, i, \"{:0.4f}\".format(cm[i, j]),\n",
    "                     horizontalalignment=\"center\",\n",
    "                     color=\"white\" if cm[i, j] > thresh else \"black\")\n",
    "        else:\n",
    "            plt.text(j, i, \"{:,}\".format(cm[i, j]),\n",
    "                     horizontalalignment=\"center\",\n",
    "                     color=\"white\" if cm[i, j] > thresh else \"black\")\n",
    "\n",
    "    plt.tight_layout()\n",
    "    plt.ylabel('True label')\n",
    "    plt.xlabel('Predicted label\\naccuracy={:0.4f}; misclass={:0.4f}'.format(accuracy, misclass))\n",
    "    plt.show()"
   ]
  },
  {
   "cell_type": "code",
   "execution_count": 35,
   "metadata": {},
   "outputs": [
    {
     "data": {
      "image/png": "[encoded data removed]",
      "text/plain": [
       "<Figure size 576x432 with 2 Axes>"
      ]
     },
     "metadata": {
      "needs_background": "light"
     },
     "output_type": "display_data"
    }
   ],
   "source": [
    "cm = tf.math.confusion_matrix(orig_test_labels, preds)\n",
    "plot_confusion_matrix(cm=np.array(cm),\n",
    "                      normalize=False,\n",
    "                      target_names=['Normal', 'Pneumonia'],\n",
    "                      title=\"Confusion Matrix\")"
   ]
  }
 ],
 "metadata": {
  "kernelspec": {
   "display_name": "myenv",
   "language": "python",
   "name": "myenv"
  },
  "language_info": {
   "codemirror_mode": {
    "name": "ipython",
    "version": 3
   },
   "file_extension": ".py",
   "mimetype": "text/x-python",
   "name": "python",
   "nbconvert_exporter": "python",
   "pygments_lexer": "ipython3",
   "version": "3.8.3"
  }
 },
 "nbformat": 4,
 "nbformat_minor": 4
}
